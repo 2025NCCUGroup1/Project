{
 "cells": [
  {
   "cell_type": "code",
   "execution_count": 1,
   "id": "1d027ed9-467a-44ba-b64c-760187f2c83c",
   "metadata": {
    "tags": []
   },
   "outputs": [
    {
     "name": "stderr",
     "output_type": "stream",
     "text": [
      "2025-06-18 14:36:58.421629: I tensorflow/core/platform/cpu_feature_guard.cc:193] This TensorFlow binary is optimized with oneAPI Deep Neural Network Library (oneDNN) to use the following CPU instructions in performance-critical operations:  AVX2 FMA\n",
      "To enable them in other operations, rebuild TensorFlow with the appropriate compiler flags.\n",
      "2025-06-18 14:36:59.336418: W tensorflow/compiler/xla/stream_executor/platform/default/dso_loader.cc:64] Could not load dynamic library 'libnvinfer.so.7'; dlerror: libnvinfer.so.7: cannot open shared object file: No such file or directory; LD_LIBRARY_PATH: /usr/local/cuda/lib64:/usr/local/nccl2/lib:/usr/local/cuda/extras/CUPTI/lib64:/usr/lib/x86_64-linux-gnu/:/opt/conda/lib\n",
      "2025-06-18 14:36:59.336526: W tensorflow/compiler/xla/stream_executor/platform/default/dso_loader.cc:64] Could not load dynamic library 'libnvinfer_plugin.so.7'; dlerror: libnvinfer_plugin.so.7: cannot open shared object file: No such file or directory; LD_LIBRARY_PATH: /usr/local/cuda/lib64:/usr/local/nccl2/lib:/usr/local/cuda/extras/CUPTI/lib64:/usr/lib/x86_64-linux-gnu/:/opt/conda/lib\n",
      "2025-06-18 14:36:59.336535: W tensorflow/compiler/tf2tensorrt/utils/py_utils.cc:38] TF-TRT Warning: Cannot dlopen some TensorRT libraries. If you would like to use Nvidia GPU with TensorRT, please make sure the missing libraries mentioned above are installed properly.\n"
     ]
    }
   ],
   "source": [
    "# === 1. 匯入套件 ===\n",
    "import pandas as pd\n",
    "import numpy as np\n",
    "from google.cloud import bigquery\n",
    "from sklearn.preprocessing import LabelEncoder, StandardScaler\n",
    "from sklearn.model_selection import train_test_split\n",
    "from tensorflow.keras.models import Model\n",
    "from tensorflow.keras.layers import Input, Embedding, LSTM, Dense, Concatenate, Dropout, Reshape, Masking\n",
    "from tensorflow.keras.preprocessing.sequence import pad_sequences\n",
    "from tensorflow.keras.callbacks import EarlyStopping, ModelCheckpoint\n",
    "from IPython.display import FileLink, display\n",
    "import joblib\n",
    "import os"
   ]
  },
  {
   "cell_type": "code",
   "execution_count": 2,
   "id": "599eb0ee-1bec-402e-bdde-7ffbf75bbe1f",
   "metadata": {
    "tags": []
   },
   "outputs": [
    {
     "name": "stderr",
     "output_type": "stream",
     "text": [
      "/opt/conda/envs/tensorflow/lib/python3.10/site-packages/google/cloud/bigquery/table.py:2309: UserWarning: Unable to represent RANGE schema as struct using pandas ArrowDtype. Using `object` instead. To use ArrowDtype, use pandas >= 1.5 and pyarrow >= 10.0.1.\n",
      "  warnings.warn(_RANGE_PYARROW_WARNING)\n",
      "/opt/conda/envs/tensorflow/lib/python3.10/site-packages/google/cloud/bigquery/table.py:2323: UserWarning: Unable to represent RANGE schema as struct using pandas ArrowDtype. Using `object` instead. To use ArrowDtype, use pandas >= 1.5 and pyarrow >= 10.0.1.\n",
      "  warnings.warn(_RANGE_PYARROW_WARNING)\n",
      "/opt/conda/envs/tensorflow/lib/python3.10/site-packages/google/cloud/bigquery/table.py:2337: UserWarning: Unable to represent RANGE schema as struct using pandas ArrowDtype. Using `object` instead. To use ArrowDtype, use pandas >= 1.5 and pyarrow >= 10.0.1.\n",
      "  warnings.warn(_RANGE_PYARROW_WARNING)\n"
     ]
    }
   ],
   "source": [
    "# === 2. BigQuery 匯入資料 ===\n",
    "PROJECT_ID = \"lab-martech-cxl\"\n",
    "client = bigquery.Client(project=PROJECT_ID, location=\"asia-east1\")\n",
    "query = \"SELECT * FROM `lab-martech-cxl.cobine.DataLabel_1v5` WHERE action_group IS NOT NULL\"\n",
    "df = client.query(query).to_dataframe()\n",
    "df = df.sort_values(by=['user_pseudo_id', 'event_time'])"
   ]
  },
  {
   "cell_type": "code",
   "execution_count": 3,
   "id": "e2b600ca-1d10-4768-809e-b7d87b06c085",
   "metadata": {
    "tags": []
   },
   "outputs": [],
   "source": [
    "# === 3. 基本參數 ===\n",
    "SEQ_LEN = 10\n",
    "cat_features = ['action_group', 'source', 'medium', 'platform']\n",
    "num_features = ['staytime', 'has_shared', 'revisit_count']"
   ]
  },
  {
   "cell_type": "code",
   "execution_count": 4,
   "id": "a1057685-1aad-4e68-90a6-2c4ef5270509",
   "metadata": {
    "tags": []
   },
   "outputs": [],
   "source": [
    "# === 4. Label Encoding 分類欄位 ===\n",
    "encoders = {}\n",
    "for col in cat_features:\n",
    "    le = LabelEncoder()\n",
    "    df[col] = le.fit_transform(df[col].astype(str))\n",
    "    encoders[col] = le\n",
    "    joblib.dump(le, f'encoder_{col}_v4.pkl')"
   ]
  },
  {
   "cell_type": "code",
   "execution_count": 5,
   "id": "67426745-0cf3-42c4-aadd-4b9b12afbf2a",
   "metadata": {
    "tags": []
   },
   "outputs": [],
   "source": [
    "# === 5. 排序與建立序列樣本 ===\n",
    "sequences, y_action, y_online, y_o2o = [], [], [], []\n",
    "\n",
    "for _, user_df in df.groupby('user_pseudo_id'):\n",
    "    if len(user_df) < SEQ_LEN + 1:\n",
    "        continue\n",
    "\n",
    "    for i in range(len(user_df) - SEQ_LEN):\n",
    "        seq = user_df.iloc[i:i+SEQ_LEN]\n",
    "        target = user_df.iloc[i+SEQ_LEN]\n",
    "\n",
    "        cat_seq = [seq[feat].values for feat in cat_features]\n",
    "        num_seq = [seq[feat].values for feat in num_features]\n",
    "\n",
    "        sequences.append(cat_seq + num_seq)\n",
    "        y_action.append(target['action_group'])\n",
    "        y_online.append(target['is_online_converted'])\n",
    "        y_o2o.append(target['is_o2o_reserved'])"
   ]
  },
  {
   "cell_type": "code",
   "execution_count": 6,
   "id": "950b60de-461a-41b3-bd4e-b6c9faf2ce12",
   "metadata": {
    "tags": []
   },
   "outputs": [],
   "source": [
    "# === 6. Padding + 數值標準化 ===\n",
    "X = []\n",
    "scalers = {}  # 新增 scaler dict 儲存對應欄位 scaler\n",
    "\n",
    "for i in range(len(sequences[0])):\n",
    "    feature_i = [seq[i] for seq in sequences]\n",
    "\n",
    "    if i < len(cat_features):\n",
    "        X.append(pad_sequences(feature_i, maxlen=SEQ_LEN, padding='pre'))\n",
    "    else:\n",
    "        # 數值欄位 index offset\n",
    "        num_idx = i - len(cat_features)\n",
    "        num_col = num_features[num_idx]\n",
    "\n",
    "        feature_array = np.array(feature_i, dtype=float)\n",
    "        feature_array = np.nan_to_num(feature_array, nan=0.0)\n",
    "\n",
    "        scaler = StandardScaler()\n",
    "        scaled = scaler.fit_transform(feature_array)\n",
    "\n",
    "        # 儲存 scaler\n",
    "        joblib.dump(scaler, f\"scaler_feature_{num_col}_v4.pkl\")\n",
    "        scalers[num_col] = scaler\n",
    "\n",
    "        X.append(scaled)\n",
    "\n",
    "# 最後轉成 numpy 陣列\n",
    "X = [np.array(x) for x in X]\n",
    "y_action = np.array(y_action)\n",
    "y_online = np.array(y_online)\n",
    "y_o2o = np.array(y_o2o)\n"
   ]
  },
  {
   "cell_type": "code",
   "execution_count": 7,
   "id": "90f52ace-dd4c-4b50-849b-98cf16bb13af",
   "metadata": {
    "tags": []
   },
   "outputs": [],
   "source": [
    "# === 7. 切分訓練/驗證/測試資料 (70/20/10) ===\n",
    "X_all = list(zip(*X))\n",
    "X_temp, X_test, y_action_temp, y_action_test, y_online_temp, y_online_test, y_o2o_temp, y_o2o_test = train_test_split(\n",
    "    X_all, y_action, y_online, y_o2o, test_size=0.1, random_state=42\n",
    ")\n",
    "X_train, X_val, y_action_train, y_action_val, y_online_train, y_online_val, y_o2o_train, y_o2o_val = train_test_split(\n",
    "    X_temp, y_action_temp, y_online_temp, y_o2o_temp, test_size=2/9, random_state=42\n",
    ")\n",
    "\n",
    "def unzip_X(X_packed):\n",
    "    return [np.array([x[i] for x in X_packed]) for i in range(len(X_packed[0]))]\n",
    "\n",
    "X_train = unzip_X(X_train)\n",
    "X_val = unzip_X(X_val)\n",
    "X_test = unzip_X(X_test)"
   ]
  },
  {
   "cell_type": "code",
   "execution_count": 10,
   "id": "c291452f-0a40-4ccf-aafa-6dfbe1d47c95",
   "metadata": {
    "tags": []
   },
   "outputs": [
    {
     "name": "stdout",
     "output_type": "stream",
     "text": [
      "Model: \"model_1\"\n",
      "__________________________________________________________________________________________________\n",
      " Layer (type)                   Output Shape         Param #     Connected to                     \n",
      "==================================================================================================\n",
      " in_action_group (InputLayer)   [(None, 10)]         0           []                               \n",
      "                                                                                                  \n",
      " in_source (InputLayer)         [(None, 10)]         0           []                               \n",
      "                                                                                                  \n",
      " in_medium (InputLayer)         [(None, 10)]         0           []                               \n",
      "                                                                                                  \n",
      " in_platform (InputLayer)       [(None, 10)]         0           []                               \n",
      "                                                                                                  \n",
      " in_staytime (InputLayer)       [(None, 10)]         0           []                               \n",
      "                                                                                                  \n",
      " in_has_shared (InputLayer)     [(None, 10)]         0           []                               \n",
      "                                                                                                  \n",
      " in_revisit_count (InputLayer)  [(None, 10)]         0           []                               \n",
      "                                                                                                  \n",
      " embedding_4 (Embedding)        (None, 10, 64)       3904        ['in_action_group[0][0]']        \n",
      "                                                                                                  \n",
      " embedding_5 (Embedding)        (None, 10, 8)        3840        ['in_source[0][0]']              \n",
      "                                                                                                  \n",
      " embedding_6 (Embedding)        (None, 10, 8)        1168        ['in_medium[0][0]']              \n",
      "                                                                                                  \n",
      " embedding_7 (Embedding)        (None, 10, 8)        64          ['in_platform[0][0]']            \n",
      "                                                                                                  \n",
      " reshape_3 (Reshape)            (None, 10, 1)        0           ['in_staytime[0][0]']            \n",
      "                                                                                                  \n",
      " reshape_4 (Reshape)            (None, 10, 1)        0           ['in_has_shared[0][0]']          \n",
      "                                                                                                  \n",
      " reshape_5 (Reshape)            (None, 10, 1)        0           ['in_revisit_count[0][0]']       \n",
      "                                                                                                  \n",
      " concatenate_1 (Concatenate)    (None, 10, 91)       0           ['embedding_4[0][0]',            \n",
      "                                                                  'embedding_5[0][0]',            \n",
      "                                                                  'embedding_6[0][0]',            \n",
      "                                                                  'embedding_7[0][0]',            \n",
      "                                                                  'reshape_3[0][0]',              \n",
      "                                                                  'reshape_4[0][0]',              \n",
      "                                                                  'reshape_5[0][0]']              \n",
      "                                                                                                  \n",
      " masking_1 (Masking)            (None, 10, 91)       0           ['concatenate_1[0][0]']          \n",
      "                                                                                                  \n",
      " lstm_1 (LSTM)                  (None, 128)          112640      ['masking_1[0][0]']              \n",
      "                                                                                                  \n",
      " dropout_1 (Dropout)            (None, 128)          0           ['lstm_1[0][0]']                 \n",
      "                                                                                                  \n",
      " dense_3 (Dense)                (None, 64)           8256        ['dropout_1[0][0]']              \n",
      "                                                                                                  \n",
      " dense_4 (Dense)                (None, 32)           4128        ['dropout_1[0][0]']              \n",
      "                                                                                                  \n",
      " dense_5 (Dense)                (None, 32)           4128        ['dropout_1[0][0]']              \n",
      "                                                                                                  \n",
      " out_action (Dense)             (None, 60)           3900        ['dense_3[0][0]']                \n",
      "                                                                                                  \n",
      " out_online (Dense)             (None, 1)            33          ['dense_4[0][0]']                \n",
      "                                                                                                  \n",
      " out_o2o (Dense)                (None, 1)            33          ['dense_5[0][0]']                \n",
      "                                                                                                  \n",
      "==================================================================================================\n",
      "Total params: 142,094\n",
      "Trainable params: 142,094\n",
      "Non-trainable params: 0\n",
      "__________________________________________________________________________________________________\n"
     ]
    }
   ],
   "source": [
    "# === 8. 建立模型 ===\n",
    "from tensorflow.keras.metrics import Precision, Recall\n",
    "#####輸入層\n",
    "num_classes = len(encoders['action_group'].classes_)\n",
    "inputs, embeddings = [], []\n",
    "emb_dims = {'action_group': 64, 'source': 8, 'medium': 8, 'platform': 8}\n",
    "\n",
    "#####類別特徵處理\n",
    "for i, feat in enumerate(cat_features):\n",
    "    inp = Input(shape=(SEQ_LEN,), name=f'in_{feat}')\n",
    "    inputs.append(inp)\n",
    "    emb = Embedding(input_dim=df[feat].nunique() + 1, output_dim=emb_dims[feat], mask_zero=True)(inp) #mask_zero=True:忽略填充的0值\n",
    "    embeddings.append(emb)\n",
    "    \n",
    "#####數值特徵處理\n",
    "for i, feat in enumerate(num_features):\n",
    "    inp = Input(shape=(SEQ_LEN,), name=f'in_{feat}')\n",
    "    inputs.append(inp)\n",
    "    reshaped = Reshape((SEQ_LEN, 1))(inp)\n",
    "    embeddings.append(reshaped)\n",
    "\n",
    "x = Concatenate()(embeddings) # 拼接所有特徵\n",
    "x = Masking()(x) # 處理序列中的填充值0\n",
    "x = LSTM(128, return_sequences=False)(x) # LSTM處理序列\n",
    "x = Dropout(0.3)(x) # 防止過擬合\n",
    "\n",
    "##### 輸出\n",
    "#action_group預測\n",
    "out_action = Dense(64, activation='relu')(x)\n",
    "out_action = Dense(num_classes, activation='softmax', name='out_action')(out_action) \n",
    "\n",
    "#網投成功預測\n",
    "out_online = Dense(32, activation='relu')(x)\n",
    "out_online = Dense(1, activation='sigmoid', name='out_online')(out_online)\n",
    "\n",
    "#O2O預約預測\n",
    "out_o2o = Dense(32, activation='relu')(x)\n",
    "out_o2o = Dense(1, activation='sigmoid', name='out_o2o')(out_o2o)\n",
    "\n",
    "model = Model(inputs=inputs, outputs=[out_action, out_online, out_o2o])\n",
    "model.compile(optimizer='adam',\n",
    "              loss={'out_action': 'sparse_categorical_crossentropy',\n",
    "                    'out_online': 'binary_crossentropy',\n",
    "                    'out_o2o': 'binary_crossentropy'},\n",
    "              metrics={'out_action': 'accuracy',\n",
    "                       'out_online': ['accuracy',Precision(name='precision_online'), Recall(name='recall_online')],\n",
    "                       'out_o2o': ['accuracy',Precision(name='precision_o2o'), Recall(name='recall_o2o')]})\n",
    "\n",
    "model.summary()\n"
   ]
  },
  {
   "cell_type": "code",
   "execution_count": 11,
   "id": "4035f6f1-724c-43e0-9386-2554625b1916",
   "metadata": {
    "tags": []
   },
   "outputs": [
    {
     "name": "stdout",
     "output_type": "stream",
     "text": [
      "Epoch 1/20\n"
     ]
    },
    {
     "name": "stderr",
     "output_type": "stream",
     "text": [
      "2025-06-18 15:07:56.987738: W tensorflow/core/common_runtime/type_inference.cc:339] Type inference failed. This indicates an invalid graph that escaped type checking. Error message: INVALID_ARGUMENT: expected compatible input types, but input 1:\n",
      "type_id: TFT_OPTIONAL\n",
      "args {\n",
      "  type_id: TFT_PRODUCT\n",
      "  args {\n",
      "    type_id: TFT_TENSOR\n",
      "    args {\n",
      "      type_id: TFT_INT32\n",
      "    }\n",
      "  }\n",
      "}\n",
      " is neither a subtype nor a supertype of the combined inputs preceding it:\n",
      "type_id: TFT_OPTIONAL\n",
      "args {\n",
      "  type_id: TFT_PRODUCT\n",
      "  args {\n",
      "    type_id: TFT_TENSOR\n",
      "    args {\n",
      "      type_id: TFT_FLOAT\n",
      "    }\n",
      "  }\n",
      "}\n",
      "\n",
      "\twhile inferring type of node 'cond_40/output/_23'\n",
      "2025-06-18 15:07:57.354201: I tensorflow/compiler/xla/stream_executor/cuda/cuda_dnn.cc:428] Loaded cuDNN version 8900\n",
      "2025-06-18 15:07:57.492910: I tensorflow/compiler/xla/service/service.cc:173] XLA service 0x55fb8d38af60 initialized for platform CUDA (this does not guarantee that XLA will be used). Devices:\n",
      "2025-06-18 15:07:57.492951: I tensorflow/compiler/xla/service/service.cc:181]   StreamExecutor device (0): Tesla T4, Compute Capability 7.5\n",
      "2025-06-18 15:07:57.534072: I tensorflow/compiler/mlir/tensorflow/utils/dump_mlir_util.cc:268] disabling MLIR crash reproducer, set env var `MLIR_CRASH_REPRODUCER_DIRECTORY` to enable.\n",
      "2025-06-18 15:07:58.023742: I tensorflow/compiler/jit/xla_compilation_cache.cc:477] Compiled cluster using XLA!  This line is logged at most once for the lifetime of the process.\n"
     ]
    },
    {
     "name": "stdout",
     "output_type": "stream",
     "text": [
      "5169/5169 [==============================] - 95s 17ms/step - loss: 1.2662 - out_action_loss: 0.9882 - out_online_loss: 0.1787 - out_o2o_loss: 0.0993 - out_action_accuracy: 0.7074 - out_online_accuracy: 0.9346 - out_online_precision_online: 0.9342 - out_online_recall_online: 0.8778 - out_o2o_accuracy: 0.9610 - out_o2o_precision_o2o: 0.8694 - out_o2o_recall_o2o: 0.6824 - val_loss: 1.1327 - val_out_action_loss: 0.8752 - val_out_online_loss: 0.1665 - val_out_o2o_loss: 0.0910 - val_out_action_accuracy: 0.7320 - val_out_online_accuracy: 0.9379 - val_out_online_precision_online: 0.9362 - val_out_online_recall_online: 0.8857 - val_out_o2o_accuracy: 0.9633 - val_out_o2o_precision_o2o: 0.9141 - val_out_o2o_recall_o2o: 0.6667\n",
      "Epoch 2/20\n",
      "5169/5169 [==============================] - 73s 14ms/step - loss: 1.1397 - out_action_loss: 0.8815 - out_online_loss: 0.1669 - out_o2o_loss: 0.0914 - out_action_accuracy: 0.7323 - out_online_accuracy: 0.9381 - out_online_precision_online: 0.9370 - out_online_recall_online: 0.8854 - out_o2o_accuracy: 0.9635 - out_o2o_precision_o2o: 0.8874 - out_o2o_recall_o2o: 0.6955 - val_loss: 1.1011 - val_out_action_loss: 0.8498 - val_out_online_loss: 0.1627 - val_out_o2o_loss: 0.0885 - val_out_action_accuracy: 0.7391 - val_out_online_accuracy: 0.9391 - val_out_online_precision_online: 0.9379 - val_out_online_recall_online: 0.8874 - val_out_o2o_accuracy: 0.9645 - val_out_o2o_precision_o2o: 0.9032 - val_out_o2o_recall_o2o: 0.6903\n",
      "Epoch 3/20\n",
      "5169/5169 [==============================] - 70s 14ms/step - loss: 1.1169 - out_action_loss: 0.8635 - out_online_loss: 0.1639 - out_o2o_loss: 0.0895 - out_action_accuracy: 0.7369 - out_online_accuracy: 0.9390 - out_online_precision_online: 0.9383 - out_online_recall_online: 0.8866 - out_o2o_accuracy: 0.9642 - out_o2o_precision_o2o: 0.8908 - out_o2o_recall_o2o: 0.7001 - val_loss: 1.0876 - val_out_action_loss: 0.8400 - val_out_online_loss: 0.1604 - val_out_o2o_loss: 0.0872 - val_out_action_accuracy: 0.7423 - val_out_online_accuracy: 0.9397 - val_out_online_precision_online: 0.9374 - val_out_online_recall_online: 0.8899 - val_out_o2o_accuracy: 0.9649 - val_out_o2o_precision_o2o: 0.8858 - val_out_o2o_recall_o2o: 0.7136\n",
      "Epoch 4/20\n",
      "5169/5169 [==============================] - 71s 14ms/step - loss: 1.1042 - out_action_loss: 0.8541 - out_online_loss: 0.1619 - out_o2o_loss: 0.0881 - out_action_accuracy: 0.7394 - out_online_accuracy: 0.9394 - out_online_precision_online: 0.9391 - out_online_recall_online: 0.8871 - out_o2o_accuracy: 0.9646 - out_o2o_precision_o2o: 0.8924 - out_o2o_recall_o2o: 0.7040 - val_loss: 1.0771 - val_out_action_loss: 0.8319 - val_out_online_loss: 0.1588 - val_out_o2o_loss: 0.0864 - val_out_action_accuracy: 0.7442 - val_out_online_accuracy: 0.9402 - val_out_online_precision_online: 0.9396 - val_out_online_recall_online: 0.8889 - val_out_o2o_accuracy: 0.9650 - val_out_o2o_precision_o2o: 0.8659 - val_out_o2o_recall_o2o: 0.7363\n",
      "Epoch 5/20\n",
      "5169/5169 [==============================] - 72s 14ms/step - loss: 1.0951 - out_action_loss: 0.8477 - out_online_loss: 0.1603 - out_o2o_loss: 0.0871 - out_action_accuracy: 0.7409 - out_online_accuracy: 0.9400 - out_online_precision_online: 0.9397 - out_online_recall_online: 0.8882 - out_o2o_accuracy: 0.9650 - out_o2o_precision_o2o: 0.8921 - out_o2o_recall_o2o: 0.7085 - val_loss: 1.0717 - val_out_action_loss: 0.8289 - val_out_online_loss: 0.1571 - val_out_o2o_loss: 0.0857 - val_out_action_accuracy: 0.7449 - val_out_online_accuracy: 0.9409 - val_out_online_precision_online: 0.9414 - val_out_online_recall_online: 0.8890 - val_out_o2o_accuracy: 0.9655 - val_out_o2o_precision_o2o: 0.8945 - val_out_o2o_recall_o2o: 0.7117\n",
      "Epoch 6/20\n",
      "5169/5169 [==============================] - 72s 14ms/step - loss: 1.0886 - out_action_loss: 0.8434 - out_online_loss: 0.1589 - out_o2o_loss: 0.0863 - out_action_accuracy: 0.7418 - out_online_accuracy: 0.9404 - out_online_precision_online: 0.9400 - out_online_recall_online: 0.8890 - out_o2o_accuracy: 0.9654 - out_o2o_precision_o2o: 0.8934 - out_o2o_recall_o2o: 0.7117 - val_loss: 1.0706 - val_out_action_loss: 0.8283 - val_out_online_loss: 0.1573 - val_out_o2o_loss: 0.0850 - val_out_action_accuracy: 0.7448 - val_out_online_accuracy: 0.9409 - val_out_online_precision_online: 0.9380 - val_out_online_recall_online: 0.8926 - val_out_o2o_accuracy: 0.9656 - val_out_o2o_precision_o2o: 0.9115 - val_out_o2o_recall_o2o: 0.6967\n",
      "Epoch 7/20\n",
      "5169/5169 [==============================] - 71s 14ms/step - loss: 1.0835 - out_action_loss: 0.8401 - out_online_loss: 0.1579 - out_o2o_loss: 0.0855 - out_action_accuracy: 0.7425 - out_online_accuracy: 0.9408 - out_online_precision_online: 0.9405 - out_online_recall_online: 0.8898 - out_o2o_accuracy: 0.9656 - out_o2o_precision_o2o: 0.8925 - out_o2o_recall_o2o: 0.7153 - val_loss: 1.0637 - val_out_action_loss: 0.8247 - val_out_online_loss: 0.1551 - val_out_o2o_loss: 0.0839 - val_out_action_accuracy: 0.7458 - val_out_online_accuracy: 0.9414 - val_out_online_precision_online: 0.9433 - val_out_online_recall_online: 0.8885 - val_out_o2o_accuracy: 0.9661 - val_out_o2o_precision_o2o: 0.9048 - val_out_o2o_recall_o2o: 0.7090\n",
      "Epoch 8/20\n",
      "5169/5169 [==============================] - 71s 14ms/step - loss: 1.0789 - out_action_loss: 0.8373 - out_online_loss: 0.1567 - out_o2o_loss: 0.0849 - out_action_accuracy: 0.7431 - out_online_accuracy: 0.9412 - out_online_precision_online: 0.9411 - out_online_recall_online: 0.8904 - out_o2o_accuracy: 0.9658 - out_o2o_precision_o2o: 0.8932 - out_o2o_recall_o2o: 0.7176 - val_loss: 1.0615 - val_out_action_loss: 0.8233 - val_out_online_loss: 0.1545 - val_out_o2o_loss: 0.0837 - val_out_action_accuracy: 0.7464 - val_out_online_accuracy: 0.9414 - val_out_online_precision_online: 0.9405 - val_out_online_recall_online: 0.8915 - val_out_o2o_accuracy: 0.9662 - val_out_o2o_precision_o2o: 0.8766 - val_out_o2o_recall_o2o: 0.7388\n",
      "Epoch 9/20\n",
      "5169/5169 [==============================] - 70s 14ms/step - loss: 1.0752 - out_action_loss: 0.8352 - out_online_loss: 0.1558 - out_o2o_loss: 0.0842 - out_action_accuracy: 0.7436 - out_online_accuracy: 0.9416 - out_online_precision_online: 0.9414 - out_online_recall_online: 0.8911 - out_o2o_accuracy: 0.9662 - out_o2o_precision_o2o: 0.8944 - out_o2o_recall_o2o: 0.7208 - val_loss: 1.0599 - val_out_action_loss: 0.8229 - val_out_online_loss: 0.1539 - val_out_o2o_loss: 0.0831 - val_out_action_accuracy: 0.7461 - val_out_online_accuracy: 0.9420 - val_out_online_precision_online: 0.9427 - val_out_online_recall_online: 0.8910 - val_out_o2o_accuracy: 0.9663 - val_out_o2o_precision_o2o: 0.9138 - val_out_o2o_recall_o2o: 0.7028\n",
      "Epoch 10/20\n",
      "5169/5169 [==============================] - 71s 14ms/step - loss: 1.0720 - out_action_loss: 0.8334 - out_online_loss: 0.1549 - out_o2o_loss: 0.0837 - out_action_accuracy: 0.7442 - out_online_accuracy: 0.9419 - out_online_precision_online: 0.9419 - out_online_recall_online: 0.8914 - out_o2o_accuracy: 0.9664 - out_o2o_precision_o2o: 0.8955 - out_o2o_recall_o2o: 0.7222 - val_loss: 1.0565 - val_out_action_loss: 0.8205 - val_out_online_loss: 0.1533 - val_out_o2o_loss: 0.0827 - val_out_action_accuracy: 0.7469 - val_out_online_accuracy: 0.9422 - val_out_online_precision_online: 0.9451 - val_out_online_recall_online: 0.8890 - val_out_o2o_accuracy: 0.9666 - val_out_o2o_precision_o2o: 0.8904 - val_out_o2o_recall_o2o: 0.7295\n",
      "Epoch 11/20\n",
      "5169/5169 [==============================] - 71s 14ms/step - loss: 1.0692 - out_action_loss: 0.8319 - out_online_loss: 0.1542 - out_o2o_loss: 0.0831 - out_action_accuracy: 0.7443 - out_online_accuracy: 0.9422 - out_online_precision_online: 0.9424 - out_online_recall_online: 0.8918 - out_o2o_accuracy: 0.9665 - out_o2o_precision_o2o: 0.8948 - out_o2o_recall_o2o: 0.7248 - val_loss: 1.0548 - val_out_action_loss: 0.8203 - val_out_online_loss: 0.1524 - val_out_o2o_loss: 0.0821 - val_out_action_accuracy: 0.7472 - val_out_online_accuracy: 0.9425 - val_out_online_precision_online: 0.9441 - val_out_online_recall_online: 0.8909 - val_out_o2o_accuracy: 0.9667 - val_out_o2o_precision_o2o: 0.8906 - val_out_o2o_recall_o2o: 0.7299\n",
      "Epoch 12/20\n",
      "5169/5169 [==============================] - 71s 14ms/step - loss: 1.0667 - out_action_loss: 0.8307 - out_online_loss: 0.1534 - out_o2o_loss: 0.0826 - out_action_accuracy: 0.7446 - out_online_accuracy: 0.9424 - out_online_precision_online: 0.9426 - out_online_recall_online: 0.8925 - out_o2o_accuracy: 0.9668 - out_o2o_precision_o2o: 0.8956 - out_o2o_recall_o2o: 0.7265 - val_loss: 1.0534 - val_out_action_loss: 0.8198 - val_out_online_loss: 0.1517 - val_out_o2o_loss: 0.0819 - val_out_action_accuracy: 0.7471 - val_out_online_accuracy: 0.9426 - val_out_online_precision_online: 0.9474 - val_out_online_recall_online: 0.8878 - val_out_o2o_accuracy: 0.9670 - val_out_o2o_precision_o2o: 0.9002 - val_out_o2o_recall_o2o: 0.7241\n",
      "Epoch 13/20\n",
      "5169/5169 [==============================] - 71s 14ms/step - loss: 1.0645 - out_action_loss: 0.8296 - out_online_loss: 0.1526 - out_o2o_loss: 0.0822 - out_action_accuracy: 0.7449 - out_online_accuracy: 0.9428 - out_online_precision_online: 0.9431 - out_online_recall_online: 0.8930 - out_o2o_accuracy: 0.9669 - out_o2o_precision_o2o: 0.8973 - out_o2o_recall_o2o: 0.7270 - val_loss: 1.0508 - val_out_action_loss: 0.8183 - val_out_online_loss: 0.1510 - val_out_o2o_loss: 0.0815 - val_out_action_accuracy: 0.7476 - val_out_online_accuracy: 0.9431 - val_out_online_precision_online: 0.9431 - val_out_online_recall_online: 0.8939 - val_out_o2o_accuracy: 0.9671 - val_out_o2o_precision_o2o: 0.8887 - val_out_o2o_recall_o2o: 0.7378\n",
      "Epoch 14/20\n",
      "5169/5169 [==============================] - 70s 14ms/step - loss: 1.0620 - out_action_loss: 0.8284 - out_online_loss: 0.1519 - out_o2o_loss: 0.0816 - out_action_accuracy: 0.7454 - out_online_accuracy: 0.9430 - out_online_precision_online: 0.9433 - out_online_recall_online: 0.8935 - out_o2o_accuracy: 0.9672 - out_o2o_precision_o2o: 0.8972 - out_o2o_recall_o2o: 0.7300 - val_loss: 1.0515 - val_out_action_loss: 0.8186 - val_out_online_loss: 0.1516 - val_out_o2o_loss: 0.0812 - val_out_action_accuracy: 0.7473 - val_out_online_accuracy: 0.9428 - val_out_online_precision_online: 0.9351 - val_out_online_recall_online: 0.9016 - val_out_o2o_accuracy: 0.9673 - val_out_o2o_precision_o2o: 0.8972 - val_out_o2o_recall_o2o: 0.7302\n",
      "Epoch 15/20\n",
      "5169/5169 [==============================] - 70s 14ms/step - loss: 1.0599 - out_action_loss: 0.8275 - out_online_loss: 0.1512 - out_o2o_loss: 0.0812 - out_action_accuracy: 0.7453 - out_online_accuracy: 0.9432 - out_online_precision_online: 0.9437 - out_online_recall_online: 0.8937 - out_o2o_accuracy: 0.9674 - out_o2o_precision_o2o: 0.8980 - out_o2o_recall_o2o: 0.7314 - val_loss: 1.0492 - val_out_action_loss: 0.8183 - val_out_online_loss: 0.1503 - val_out_o2o_loss: 0.0807 - val_out_action_accuracy: 0.7472 - val_out_online_accuracy: 0.9434 - val_out_online_precision_online: 0.9474 - val_out_online_recall_online: 0.8901 - val_out_o2o_accuracy: 0.9674 - val_out_o2o_precision_o2o: 0.8916 - val_out_o2o_recall_o2o: 0.7374\n",
      "Epoch 16/20\n",
      "5169/5169 [==============================] - 70s 14ms/step - loss: 1.0581 - out_action_loss: 0.8267 - out_online_loss: 0.1506 - out_o2o_loss: 0.0808 - out_action_accuracy: 0.7455 - out_online_accuracy: 0.9435 - out_online_precision_online: 0.9438 - out_online_recall_online: 0.8941 - out_o2o_accuracy: 0.9674 - out_o2o_precision_o2o: 0.8987 - out_o2o_recall_o2o: 0.7315 - val_loss: 1.0472 - val_out_action_loss: 0.8171 - val_out_online_loss: 0.1496 - val_out_o2o_loss: 0.0804 - val_out_action_accuracy: 0.7478 - val_out_online_accuracy: 0.9435 - val_out_online_precision_online: 0.9416 - val_out_online_recall_online: 0.8966 - val_out_o2o_accuracy: 0.9675 - val_out_o2o_precision_o2o: 0.9111 - val_out_o2o_recall_o2o: 0.7193\n",
      "Epoch 17/20\n",
      "5169/5169 [==============================] - 71s 14ms/step - loss: 1.0565 - out_action_loss: 0.8262 - out_online_loss: 0.1499 - out_o2o_loss: 0.0804 - out_action_accuracy: 0.7458 - out_online_accuracy: 0.9438 - out_online_precision_online: 0.9444 - out_online_recall_online: 0.8947 - out_o2o_accuracy: 0.9676 - out_o2o_precision_o2o: 0.8994 - out_o2o_recall_o2o: 0.7333 - val_loss: 1.0473 - val_out_action_loss: 0.8175 - val_out_online_loss: 0.1494 - val_out_o2o_loss: 0.0804 - val_out_action_accuracy: 0.7475 - val_out_online_accuracy: 0.9436 - val_out_online_precision_online: 0.9431 - val_out_online_recall_online: 0.8954 - val_out_o2o_accuracy: 0.9675 - val_out_o2o_precision_o2o: 0.9025 - val_out_o2o_recall_o2o: 0.7284\n",
      "Epoch 18/20\n",
      "5169/5169 [==============================] - 70s 14ms/step - loss: 1.0548 - out_action_loss: 0.8253 - out_online_loss: 0.1494 - out_o2o_loss: 0.0800 - out_action_accuracy: 0.7458 - out_online_accuracy: 0.9440 - out_online_precision_online: 0.9448 - out_online_recall_online: 0.8949 - out_o2o_accuracy: 0.9678 - out_o2o_precision_o2o: 0.8989 - out_o2o_recall_o2o: 0.7354 - val_loss: 1.0461 - val_out_action_loss: 0.8174 - val_out_online_loss: 0.1487 - val_out_o2o_loss: 0.0800 - val_out_action_accuracy: 0.7478 - val_out_online_accuracy: 0.9437 - val_out_online_precision_online: 0.9425 - val_out_online_recall_online: 0.8964 - val_out_o2o_accuracy: 0.9674 - val_out_o2o_precision_o2o: 0.9114 - val_out_o2o_recall_o2o: 0.7184\n",
      "Epoch 19/20\n",
      "5169/5169 [==============================] - 70s 14ms/step - loss: 1.0529 - out_action_loss: 0.8247 - out_online_loss: 0.1486 - out_o2o_loss: 0.0796 - out_action_accuracy: 0.7461 - out_online_accuracy: 0.9442 - out_online_precision_online: 0.9449 - out_online_recall_online: 0.8954 - out_o2o_accuracy: 0.9679 - out_o2o_precision_o2o: 0.8999 - out_o2o_recall_o2o: 0.7357 - val_loss: 1.0458 - val_out_action_loss: 0.8175 - val_out_online_loss: 0.1485 - val_out_o2o_loss: 0.0799 - val_out_action_accuracy: 0.7478 - val_out_online_accuracy: 0.9440 - val_out_online_precision_online: 0.9420 - val_out_online_recall_online: 0.8978 - val_out_o2o_accuracy: 0.9678 - val_out_o2o_precision_o2o: 0.8981 - val_out_o2o_recall_o2o: 0.7358\n",
      "Epoch 20/20\n",
      "5169/5169 [==============================] - 70s 14ms/step - loss: 1.0516 - out_action_loss: 0.8243 - out_online_loss: 0.1482 - out_o2o_loss: 0.0792 - out_action_accuracy: 0.7461 - out_online_accuracy: 0.9446 - out_online_precision_online: 0.9453 - out_online_recall_online: 0.8959 - out_o2o_accuracy: 0.9681 - out_o2o_precision_o2o: 0.9005 - out_o2o_recall_o2o: 0.7383 - val_loss: 1.0459 - val_out_action_loss: 0.8184 - val_out_online_loss: 0.1480 - val_out_o2o_loss: 0.0795 - val_out_action_accuracy: 0.7480 - val_out_online_accuracy: 0.9443 - val_out_online_precision_online: 0.9486 - val_out_online_recall_online: 0.8916 - val_out_o2o_accuracy: 0.9677 - val_out_o2o_precision_o2o: 0.8814 - val_out_o2o_recall_o2o: 0.7530\n"
     ]
    },
    {
     "data": {
      "text/plain": [
       "<keras.callbacks.History at 0x7fcd79e82b90>"
      ]
     },
     "execution_count": 11,
     "metadata": {},
     "output_type": "execute_result"
    }
   ],
   "source": [
    "# === 9. 模型訓練 ===\n",
    "early_stop = EarlyStopping(patience=3, restore_best_weights=True)\n",
    "checkpoint = ModelCheckpoint('lstm_multi_output_model_v4.h5', save_best_only=True)\n",
    "\n",
    "model.fit(\n",
    "    X_train,\n",
    "    [y_action_train, y_online_train, y_o2o_train],\n",
    "    validation_data=(X_val, [y_action_val, y_online_val, y_o2o_val]),\n",
    "    batch_size=512,\n",
    "    epochs=20,\n",
    "    callbacks=[early_stop, checkpoint]\n",
    ")"
   ]
  },
  {
   "cell_type": "code",
   "execution_count": 12,
   "id": "2f8a52ed-2c69-4e9b-84a4-40284fd52ea9",
   "metadata": {
    "tags": []
   },
   "outputs": [
    {
     "name": "stdout",
     "output_type": "stream",
     "text": [
      "\\在測試集上的評估結果：\n",
      "739/739 [==============================] - 5s 6ms/step - loss: 1.0447 - out_action_loss: 0.8176 - out_online_loss: 0.1472 - out_o2o_loss: 0.0799 - out_action_accuracy: 0.7492 - out_online_accuracy: 0.9448 - out_online_precision_online: 0.9488 - out_online_recall_online: 0.8927 - out_o2o_accuracy: 0.9675 - out_o2o_precision_o2o: 0.8817 - out_o2o_recall_o2o: 0.7519\n",
      "loss: 1.0447\n",
      "out_action_loss: 0.8176\n",
      "out_online_loss: 0.1472\n",
      "out_o2o_loss: 0.0799\n",
      "out_action_accuracy: 0.7492\n",
      "out_online_accuracy: 0.9448\n",
      "out_online_precision_online: 0.9488\n",
      "out_online_recall_online: 0.8927\n",
      "out_o2o_accuracy: 0.9675\n",
      "out_o2o_precision_o2o: 0.8817\n",
      "out_o2o_recall_o2o: 0.7519\n"
     ]
    }
   ],
   "source": [
    "# === 10. 測試集評估 ===\n",
    "print(\"\\在測試集上的評估結果：\")\n",
    "results = model.evaluate(X_test, [y_action_test, y_online_test, y_o2o_test], batch_size=512)\n",
    "for name, val in zip(model.metrics_names, results):\n",
    "    print(f\"{name}: {val:.4f}\")"
   ]
  },
  {
   "cell_type": "code",
   "execution_count": null,
   "id": "ea2a2b2a-395d-4ebf-b5dd-0d007676dc8f",
   "metadata": {},
   "outputs": [],
   "source": [
    "#TopN\n",
    "from tensorflow.keras.models import load_model\n",
    "model = load_model('lstm_multi_output_model_v4.h5')\n",
    "​\n",
    "from sklearn.metrics import top_k_accuracy_score\n",
    "​\n",
    "y_pred_prob = model.predict(X_test)[0]  # 只拿出 action 的 softmax 機率分布\n",
    "y_true = y_action_test  # 實際類別\n",
    "​\n",
    "top1_acc = top_k_accuracy_score(y_true, y_pred_prob, k=1)\n",
    "top3_acc = top_k_accuracy_score(y_true, y_pred_prob, k=3)\n",
    "top5_acc = top_k_accuracy_score(y_true, y_pred_prob, k=5)\n",
    "​\n",
    "print(f\"Top-1 Accuracy: {top1_acc:.4f}\")\n",
    "print(f\"Top-3 Accuracy: {top3_acc:.4f}\")\n",
    "print(f\"Top-5 Accuracy: {top5_acc:.4f}\")\n"
   ]
  }
 ],
 "metadata": {
  "environment": {
   "kernel": "conda-env-tensorflow-tensorflow",
   "name": "workbench-notebooks.m129",
   "type": "gcloud",
   "uri": "us-docker.pkg.dev/deeplearning-platform-release/gcr.io/workbench-notebooks:m129"
  },
  "kernelspec": {
   "display_name": "TensorFlow 2-11 (Local)",
   "language": "python",
   "name": "conda-env-tensorflow-tensorflow"
  },
  "language_info": {
   "codemirror_mode": {
    "name": "ipython",
    "version": 3
   },
   "file_extension": ".py",
   "mimetype": "text/x-python",
   "name": "python",
   "nbconvert_exporter": "python",
   "pygments_lexer": "ipython3",
   "version": "3.10.16"
  }
 },
 "nbformat": 4,
 "nbformat_minor": 5
}
